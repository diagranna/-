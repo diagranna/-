{
  "nbformat": 4,
  "nbformat_minor": 0,
  "metadata": {
    "colab": {
      "provenance": []
    },
    "kernelspec": {
      "name": "python3",
      "display_name": "Python 3"
    },
    "language_info": {
      "name": "python"
    }
  },
  "cells": [
    {
      "cell_type": "markdown",
      "source": [
        "<h1>Визитная карточка сотрудника</h1>\n",
        "\n"
      ],
      "metadata": {
        "id": "MYnOBKZ291Of"
      }
    },
    {
      "cell_type": "markdown",
      "source": [
        "<i> ***Райан Томас Гослинг***</i>\n",
        "<ul>\n",
        "<li>Пол - Мужской </li>\n",
        "<li>Возраст - 43 </li>\n",
        "<li>Семейное положение - женат </li>\n",
        "<li>Место жительства - Россия, Москва </li>\n",
        "<li>Должность- президент Мира </li>\n",
        "</ul>"
      ],
      "metadata": {
        "id": "qOpVMNz4IO6p"
      }
    },
    {
      "cell_type": "markdown",
      "source": [
        "![image](https://mykaleidoscope.ru/x/uploads/posts/2023-05/1684940504_mykaleidoscope-ru-p-raian-gosling-pricheski-pinterest-74.jpg)"
      ],
      "metadata": {
        "id": "20mquzw1I8GV"
      }
    },
    {
      "cell_type": "markdown",
      "source": [
        "(https://ru.wikipedia.org/wiki/Гослинг,_Райан)"
      ],
      "metadata": {
        "id": "lZMxoHfCI9l3"
      }
    },
    {
      "cell_type": "markdown",
      "source": [
        "$$y(x) = \\frac{\\sum_{i=1}^{n} \\sum_{j=2}^{m} 9^2_i x_j}{\\sqrt{\\frac{9}{W^2}}} $$"
      ],
      "metadata": {
        "id": "uMEmKoAaJLFu"
      }
    }
  ]
}