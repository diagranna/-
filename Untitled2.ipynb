{
  "nbformat": 4,
  "nbformat_minor": 0,
  "metadata": {
    "colab": {
      "provenance": []
    },
    "kernelspec": {
      "name": "python3",
      "display_name": "Python 3"
    },
    "language_info": {
      "name": "python"
    }
  },
  "cells": [
    {
      "cell_type": "markdown",
      "source": [
        "**Карточка сотрудника**\n",
        "<ol>\n",
        "<li>Первый </li>\n",
        "<li>Второй </li>\n",
        "<li>Третий </li>\n",
        "</ol>"
      ],
      "metadata": {
        "id": "MYnOBKZ291Of"
      }
    }
  ]
}